{
 "cells": [
  {
   "cell_type": "markdown",
   "metadata": {},
   "source": []
  },
  {
   "cell_type": "markdown",
   "metadata": {},
   "source": []
  },
  {
   "cell_type": "code",
   "execution_count": 7,
   "metadata": {},
   "outputs": [],
   "source": [
    "# imports\n",
    "import numpy as np\n",
    "import pandas as pd\n",
    "import matplotlib.pyplot as plt\n",
    "from scipy.optimize import minimize\n",
    "from  sklearn.model_selection import KFold, train_test_split"
   ]
  },
  {
   "cell_type": "code",
   "execution_count": 8,
   "metadata": {},
   "outputs": [],
   "source": [
    "# import data\n",
    "\n",
    "data = pd.read_csv('LumositySample_user92098.csv')\n"
   ]
  },
  {
   "cell_type": "code",
   "execution_count": 9,
   "metadata": {},
   "outputs": [
    {
     "data": {
      "text/plain": [
       "\"\\ndef MySuperModel(data, p0):\\n    # Some combination of 2 or more models\\n    # find the best model by finding lowest MSE\\n    df = pd.read_csv(data)\\n    all_mse = {}\\n    all_mse['exponential model'] = cross_validation(data, p0, expmodel)\\n    all_mse['power model'] = cross_validation(data, p0, powermodel)\\n    all_mse['AFD model'] = cross_validation(data, p0, AFDmodel)\\n\""
      ]
     },
     "execution_count": 9,
     "metadata": {},
     "output_type": "execute_result"
    }
   ],
   "source": [
    "def expmodel(c, a, u, t):\n",
    "    # A basic exponential model\n",
    "    predy = a - (a - u) * np.exp(-c * t)\n",
    "    return predy\n",
    "\n",
    "def powermodel(c, a, u, t):\n",
    "    # A basic power model\n",
    "    predy = a - (a - u) * t ** -c\n",
    "    return predy\n",
    "\n",
    "def AFDmodel(u, b, h, c, s, d, g):\n",
    "\n",
    "    n = len(g) # We need the total number of gameplays\n",
    "    predy = np.zeros(n)\n",
    "    for i in range(n):\n",
    "        strength = 0\n",
    "        for j in range(i-1):\n",
    "            if s[i] == s[j]:\n",
    "                t = (i-j)\n",
    "            else:\n",
    "                t = (i-j)+(d[i]-d[j])*h\n",
    "            strength = strength + (t**(-c))\n",
    "        predy[i] = u + b*np.log(strength+1)\n",
    "    return predy\n",
    "\n",
    "def calcmse(params, predy, obsy, model):\n",
    "    '''make sure params list mathches the required parameters for the model\n",
    "    ex: exp_model has c, a, u, t\n",
    "    ex: AFD_model has u, b, h, c, s, d, g'''\n",
    "    # predicted scores\n",
    "    predy = model(params)\n",
    "    mse = np.mean((predy - obsy)**2)\n",
    "    \n",
    "    return mse\n",
    "\n",
    "def cross_validation(data, params, model):\n",
    "    kf = KFold(n_splits=10, shuffle=True)\n",
    "    mse = []\n",
    "    for train_index, validation_index in kf.split(data):\n",
    "        train, validation = data.iloc[train_index,:], data.iloc[validation_index]\n",
    "        result = minimize(calcmse, params, args=(train['t'], train['y'], model), bounds=[(0, None), (0, None), (0, None)])\n",
    "        p = result.x\n",
    "        mse_v = calcmse(p, validation['t'], validation['y'],model)\n",
    "        mse.append(mse_v)\n",
    "    return np.mean(mse)\n",
    "\n",
    "'''\n",
    "def MySuperModel(data, p0):\n",
    "    # Some combination of 2 or more models\n",
    "    # find the best model by finding lowest MSE\n",
    "    df = pd.read_csv(data)\n",
    "    all_mse = {}\n",
    "    all_mse['exponential model'] = cross_validation(data, p0, expmodel)\n",
    "    all_mse['power model'] = cross_validation(data, p0, powermodel)\n",
    "    all_mse['AFD model'] = cross_validation(data, p0, AFDmodel)\n",
    "'''"
   ]
  },
  {
   "cell_type": "markdown",
   "metadata": {},
   "source": []
  },
  {
   "cell_type": "code",
   "execution_count": 10,
   "metadata": {},
   "outputs": [],
   "source": [
    "# plan\n",
    "\n",
    "# split data between test and train\n",
    "# start with the first model\n",
    "# create starting params\n",
    "# cross validate with model\n",
    "# output: MSE \n",
    "# graph data to see if it lines up okay\n",
    "\n",
    "# repeat with other models"
   ]
  },
  {
   "cell_type": "code",
   "execution_count": 18,
   "metadata": {},
   "outputs": [],
   "source": [
    "# split training and test\n",
    "\n",
    "x = data.gameplay\n",
    "y = data.score\n",
    "# s = data.session        # for AFD\n",
    "# d = data.dayselapsed    # for AFD\n",
    "\n",
    "x_train, x_test, y_train, y_test = train_test_split(x, y, test_size=0.25, random_state=56)\n"
   ]
  },
  {
   "cell_type": "code",
   "execution_count": 21,
   "metadata": {},
   "outputs": [
    {
     "data": {
      "image/png": "[encoded data removed]",
      "text/plain": [
       "<Figure size 640x480 with 1 Axes>"
      ]
     },
     "metadata": {},
     "output_type": "display_data"
    }
   ],
   "source": [
    "plt.plot(x_train, y_train, 'ko')\n",
    "plt.plot(x_test,y_test,'ro')\n",
    "plt.xlabel('Gameplay')\n",
    "plt.ylabel('Score')\n",
    "plt.show()"
   ]
  },
  {
   "cell_type": "code",
   "execution_count": null,
   "metadata": {},
   "outputs": [],
   "source": []
  }
 ],
 "metadata": {
  "kernelspec": {
   "display_name": "base",
   "language": "python",
   "name": "python3"
  },
  "language_info": {
   "codemirror_mode": {
    "name": "ipython",
    "version": 3
   },
   "file_extension": ".py",
   "mimetype": "text/x-python",
   "name": "python",
   "nbconvert_exporter": "python",
   "pygments_lexer": "ipython3",
   "version": "3.11.5"
  },
  "orig_nbformat": 4
 },
 "nbformat": 4,
 "nbformat_minor": 2
}
