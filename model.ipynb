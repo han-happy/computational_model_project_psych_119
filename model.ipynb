{
 "cells": [
  {
   "cell_type": "markdown",
   "metadata": {},
   "source": []
  },
  {
   "cell_type": "markdown",
   "metadata": {},
   "source": []
  },
  {
   "cell_type": "code",
   "execution_count": 117,
   "metadata": {},
   "outputs": [],
   "source": [
    "# imports\n",
    "import numpy as np\n",
    "import pandas as pd\n",
    "import matplotlib.pyplot as plt\n",
    "from scipy.optimize import minimize\n",
    "from  sklearn.model_selection import KFold, train_test_split"
   ]
  },
  {
   "cell_type": "code",
   "execution_count": 118,
   "metadata": {},
   "outputs": [],
   "source": [
    "# import data\n",
    "\n",
    "data = pd.read_csv('LumositySample_user92098.csv')"
   ]
  },
  {
   "cell_type": "code",
   "execution_count": 119,
   "metadata": {},
   "outputs": [
    {
     "data": {
      "text/plain": [
       "\"\\ndef MySuperModel(data, p0):\\n    # Some combination of 2 or more models\\n    # find the best model by finding lowest MSE\\n    df = pd.read_csv(data)\\n    all_mse = {}\\n    all_mse['exponential model'] = cross_validation(data, p0, expmodel)\\n    all_mse['power model'] = cross_validation(data, p0, powermodel)\\n    all_mse['AFD model'] = cross_validation(data, p0, AFDmodel)\\n\""
      ]
     },
     "execution_count": 119,
     "metadata": {},
     "output_type": "execute_result"
    }
   ],
   "source": [
    "def expmodel(params, x):\n",
    "    # A basic exponential model\n",
    "    c = params[0]\n",
    "    a = params[1]\n",
    "    u = params[2]\n",
    "    #t = params[3]\n",
    "\n",
    "    predy = a - (a - u) * np.exp(-c * x)\n",
    "    return predy\n",
    "\n",
    "def powermodel(params, x):\n",
    "    # A basic power model\n",
    "    c = params[0]\n",
    "    a = params[1]\n",
    "    u = params[2]\n",
    "    predy = a - (a - u) * x ** -c\n",
    "    return predy\n",
    "\n",
    "def AFDmodel(u, b, h, c, s, d, g):\n",
    "\n",
    "    n = len(g) # We need the total number of gameplays\n",
    "    predy = np.zeros(n)\n",
    "    for i in range(n):\n",
    "        strength = 0\n",
    "        for j in range(i-1):\n",
    "            if s[i] == s[j]:\n",
    "                t = (i-j)\n",
    "            else:\n",
    "                t = (i-j)+(d[i]-d[j])*h\n",
    "            strength = strength + (t**(-c))\n",
    "        predy[i] = u + b*np.log(strength+1)\n",
    "    return predy\n",
    "\n",
    "def calcmse(params, x, y, model):\n",
    "    '''make sure params list mathches the required parameters for the model\n",
    "    ex: exp_model has c, a, u, t\n",
    "    ex: AFD_model has u, b, h, c, s, d, g'''\n",
    "    # predicted scores\n",
    "    predy = model(params, x)\n",
    "    mse = np.mean((predy - y)**2)\n",
    "    return mse\n",
    "\n",
    "def cross_validation(data, params, model):\n",
    "    kf = KFold(n_splits=10, shuffle=True)\n",
    "    x=data.columns[0]\n",
    "    y=data.columns[1]\n",
    "    mse = []\n",
    "    for train_index, validation_index in kf.split(data):\n",
    "        train, validation = data.iloc[train_index,:], data.iloc[validation_index]\n",
    "        result = minimize(calcmse, params, args=(train[x], train[y], model), bounds=[(0, None), (0, None), (0, None)])\n",
    "        p = result.x\n",
    "        mse_v = calcmse(p, validation[x], validation[y], model)\n",
    "        mse.append(mse_v)\n",
    "    avg_mse = np.mean(mse)\n",
    "    return avg_mse, p\n",
    "\n",
    "'''\n",
    "def MySuperModel(data, p0):\n",
    "    # Some combination of 2 or more models\n",
    "    # find the best model by finding lowest MSE\n",
    "    df = pd.read_csv(data)\n",
    "    all_mse = {}\n",
    "    all_mse['exponential model'] = cross_validation(data, p0, expmodel)\n",
    "    all_mse['power model'] = cross_validation(data, p0, powermodel)\n",
    "    all_mse['AFD model'] = cross_validation(data, p0, AFDmodel)\n",
    "'''"
   ]
  },
  {
   "cell_type": "markdown",
   "metadata": {},
   "source": [
    "Testing Model !"
   ]
  },
  {
   "cell_type": "code",
   "execution_count": 120,
   "metadata": {},
   "outputs": [],
   "source": [
    "# plan\n",
    "\n",
    "# split data between test and train\n",
    "# start with the first model\n",
    "# create starting params\n",
    "# cross validate with model\n",
    "# output: MSE \n",
    "# graph data to see if it lines up okay\n",
    "\n",
    "# repeat with other models"
   ]
  },
  {
   "cell_type": "code",
   "execution_count": 121,
   "metadata": {},
   "outputs": [],
   "source": [
    "# split training and test\n",
    "\n",
    "x = data.gameplay\n",
    "y = data.score\n",
    "s = data.session        # for AFD\n",
    "d = data.dayselapsed    # for AFD\n",
    "\n",
    "x_train, x_test, y_train, y_test = train_test_split(x, y, test_size=0.25, random_state=56)\n"
   ]
  },
  {
   "cell_type": "code",
   "execution_count": 122,
   "metadata": {},
   "outputs": [],
   "source": [
    "# starting parameter values for exponential model and power model\n",
    "p0 = np.zeros(3)\n",
    "p0[0] = 0.5\n",
    "p0[1] = 100\n",
    "p0[2] = 50"
   ]
  },
  {
   "cell_type": "code",
   "execution_count": 123,
   "metadata": {},
   "outputs": [],
   "source": [
    "exp = cross_validation(data, p0, expmodel)\n",
    "parameter_exp = exp[1]\n",
    "y_exp = expmodel(parameter_exp,x)"
   ]
  },
  {
   "cell_type": "code",
   "execution_count": 124,
   "metadata": {},
   "outputs": [],
   "source": [
    "pwr = cross_validation(data, p0, powermodel)\n",
    "parameter_pwr = pwr[1]\n",
    "y_pwr = powermodel(parameter_pwr,x)"
   ]
  },
  {
   "cell_type": "code",
   "execution_count": 125,
   "metadata": {},
   "outputs": [
    {
     "name": "stdout",
     "output_type": "stream",
     "text": [
      "power model MSE: 11.482358982471444 \n",
      "exponential model MSE: 7.693101912342817\n"
     ]
    }
   ],
   "source": [
    "print('power model MSE:',pwr[0],'\\nexponential model MSE:',exp[0])"
   ]
  },
  {
   "cell_type": "code",
   "execution_count": 126,
   "metadata": {},
   "outputs": [
    {
     "data": {
      "image/png": "[encoded data removed]",
      "text/plain": [
       "<Figure size 640x480 with 1 Axes>"
      ]
     },
     "metadata": {},
     "output_type": "display_data"
    }
   ],
   "source": [
    "labels = ['data','exponential','power']\n",
    "\n",
    "plt.plot(x, y, 'ko')\n",
    "plt.plot(x,y_exp,'r-')\n",
    "plt.plot(x,y_pwr,'b-')\n",
    "plt.legend(labels)\n",
    "plt.xlabel('Gameplay')\n",
    "plt.ylabel('Score')\n",
    "plt.show()"
   ]
  },
  {
   "cell_type": "code",
   "execution_count": 127,
   "metadata": {},
   "outputs": [],
   "source": [
    "# for AFD\n",
    "# params = u, b, h, c, s, d, x\n",
    "# calcmse(params,x,y)"
   ]
  }
 ],
 "metadata": {
  "kernelspec": {
   "display_name": "base",
   "language": "python",
   "name": "python3"
  },
  "language_info": {
   "codemirror_mode": {
    "name": "ipython",
    "version": 3
   },
   "file_extension": ".py",
   "mimetype": "text/x-python",
   "name": "python",
   "nbconvert_exporter": "python",
   "pygments_lexer": "ipython3",
   "version": "3.11.5"
  },
  "orig_nbformat": 4
 },
 "nbformat": 4,
 "nbformat_minor": 2
}
