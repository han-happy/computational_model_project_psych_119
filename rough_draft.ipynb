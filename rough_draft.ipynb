{
 "cells": [
  {
   "cell_type": "markdown",
   "metadata": {},
   "source": []
  },
  {
   "cell_type": "markdown",
   "metadata": {},
   "source": []
  },
  {
   "cell_type": "code",
   "execution_count": 260,
   "metadata": {},
   "outputs": [],
   "source": [
    "# imports\n",
    "import numpy as np\n",
    "import pandas as pd\n",
    "import matplotlib.pyplot as plt\n",
    "from scipy.optimize import minimize\n",
    "from  sklearn.model_selection import KFold, train_test_split"
   ]
  },
  {
   "cell_type": "code",
   "execution_count": 261,
   "metadata": {},
   "outputs": [],
   "source": [
    "# import data\n",
    "\n",
    "data = pd.read_csv('LumositySample_user92098.csv')"
   ]
  },
  {
   "cell_type": "code",
   "execution_count": 262,
   "metadata": {},
   "outputs": [
    {
     "data": {
      "text/plain": [
       "\"\\ndef MySuperModel(data, p0):\\n    # Some combination of 2 or more models\\n    # find the best model by finding lowest MSE\\n    df = pd.read_csv(data)\\n    all_mse = {}\\n    all_mse['exponential model'] = cross_validation(data, p0, expmodel)\\n    all_mse['power model'] = cross_validation(data, p0, powermodel)\\n    all_mse['AFD model'] = cross_validation(data, p0, AFDmodel)\\n\""
      ]
     },
     "execution_count": 262,
     "metadata": {},
     "output_type": "execute_result"
    }
   ],
   "source": [
    "def expmodel(params, x):\n",
    "    # A basic exponential model\n",
    "    c, a, u = params\n",
    "    '''\n",
    "    c = params[0]\n",
    "    a = params[1]\n",
    "    u = params[2]\n",
    "    '''\n",
    "\n",
    "    predy = a - (a - u) * np.exp(-c * x)\n",
    "    return predy\n",
    "\n",
    "def powermodel(params, x):\n",
    "    # A basic power model\n",
    "    c, a, u = params\n",
    "    predy = a - (a - u) * x ** -c\n",
    "    return predy\n",
    "\n",
    "def AFDmodel(u, b, h, c, s, d, x):\n",
    "    n = len(x) # We need the total number of gameplays\n",
    "    predy = np.zeros(n)\n",
    "    for i in range(n):\n",
    "        strength = 0\n",
    "        for j in range(i-1):\n",
    "            if s[i] == s[j]:\n",
    "                t = (i-j)\n",
    "            else:\n",
    "                t = (i-j)+(d[i]-d[j])*h\n",
    "            strength = strength + (t**(-c))\n",
    "        predy[i] = u + b*np.log(strength+1)\n",
    "    return predy\n",
    "\n",
    "def calcmse(params, x, y, model, session=None, day=None):\n",
    "    '''make sure params list mathches the required parameters for the model\n",
    "    ex: exp_model has c, a, u, t\n",
    "    ex: AFD_model has u, b, h, c, s, d, g'''\n",
    "    # predicted scores\n",
    "    if model == 'AFDmodel':\n",
    "        predy = model(params, session, day, x)\n",
    "    else:\n",
    "        predy = model(params, x)\n",
    "    mse = np.mean((predy - y)**2)\n",
    "    return mse\n",
    "\n",
    "def cross_validation(data, params, model):\n",
    "    kf = KFold(n_splits=10, shuffle=True)\n",
    "    x=data.columns[0]\n",
    "    y=data.columns[1]\n",
    "    mse = []\n",
    "    for train_index, validation_index in kf.split(data):\n",
    "        train, validation = data.iloc[train_index,:], data.iloc[validation_index]\n",
    "        result = minimize(calcmse, params, args=(train[x], train[y], model), bounds=[(0, None), (0, None), (0, None)])\n",
    "        p = result.x\n",
    "        mse_v = calcmse(p, validation[x], validation[y], model)\n",
    "        mse.append(mse_v)\n",
    "    avg_mse = np.mean(mse)\n",
    "    return avg_mse, p\n",
    "\n",
    "'''\n",
    "def MySuperModel(data, p0):\n",
    "    # Some combination of 2 or more models\n",
    "    # find the best model by finding lowest MSE\n",
    "    df = pd.read_csv(data)\n",
    "    all_mse = {}\n",
    "    all_mse['exponential model'] = cross_validation(data, p0, expmodel)\n",
    "    all_mse['power model'] = cross_validation(data, p0, powermodel)\n",
    "    all_mse['AFD model'] = cross_validation(data, p0, AFDmodel)\n",
    "'''"
   ]
  },
  {
   "cell_type": "markdown",
   "metadata": {},
   "source": [
    "Testing Model !"
   ]
  },
  {
   "cell_type": "code",
   "execution_count": 263,
   "metadata": {},
   "outputs": [],
   "source": [
    "# plan\n",
    "\n",
    "# split data between test and train\n",
    "# start with the first model\n",
    "# create starting params\n",
    "# cross validate with model\n",
    "# output: MSE \n",
    "# graph data to see if it lines up okay\n",
    "\n",
    "# repeat with other models"
   ]
  },
  {
   "cell_type": "code",
   "execution_count": 264,
   "metadata": {},
   "outputs": [],
   "source": [
    "# split training and test\n",
    "\n",
    "x = data.gameplay\n",
    "y = data.score\n",
    "s = data.session        # for AFD\n",
    "d = data.dayselapsed    # for AFD"
   ]
  },
  {
   "cell_type": "code",
   "execution_count": 265,
   "metadata": {},
   "outputs": [],
   "source": [
    "# starting parameter values for exponential model and power model\n",
    "p0 = np.zeros(3)\n",
    "p0[0] = 0.5\n",
    "p0[1] = 100\n",
    "p0[2] = 50"
   ]
  },
  {
   "cell_type": "code",
   "execution_count": 266,
   "metadata": {},
   "outputs": [],
   "source": [
    "exp = cross_validation(data, p0, expmodel)\n",
    "parameter_exp = exp[1]\n",
    "y_exp = expmodel(parameter_exp,x)"
   ]
  },
  {
   "cell_type": "code",
   "execution_count": 267,
   "metadata": {},
   "outputs": [],
   "source": [
    "pwr = cross_validation(data, p0, powermodel)\n",
    "parameter_pwr = pwr[1]\n",
    "y_pwr = powermodel(parameter_pwr,x)"
   ]
  },
  {
   "cell_type": "code",
   "execution_count": 268,
   "metadata": {},
   "outputs": [
    {
     "name": "stdout",
     "output_type": "stream",
     "text": [
      "power model MSE: 14.814880231414168 \n",
      "exponential model MSE: 7.906160928319319\n"
     ]
    }
   ],
   "source": [
    "print('power model MSE:',pwr[0],'\\nexponential model MSE:',exp[0])"
   ]
  },
  {
   "cell_type": "code",
   "execution_count": 269,
   "metadata": {},
   "outputs": [
    {
     "data": {
      "image/png": "[encoded data removed]",
      "text/plain": [
       "<Figure size 640x480 with 1 Axes>"
      ]
     },
     "metadata": {},
     "output_type": "display_data"
    }
   ],
   "source": [
    "labels = ['data','exponential','power']\n",
    "\n",
    "plt.plot(x, y, 'ko')\n",
    "plt.plot(x,y_exp,'r-')\n",
    "plt.plot(x,y_pwr,'b-')\n",
    "plt.legend(labels)\n",
    "plt.xlabel('Gameplay')\n",
    "plt.ylabel('Score')\n",
    "plt.show()"
   ]
  },
  {
   "cell_type": "code",
   "execution_count": 270,
   "metadata": {},
   "outputs": [],
   "source": [
    "# for AFD\n",
    "# params = u, b, h, c, s,  x\n",
    "# calcmse(params,x,y)"
   ]
  },
  {
   "cell_type": "code",
   "execution_count": 271,
   "metadata": {},
   "outputs": [],
   "source": [
    "\n",
    "def AFDmodel(params, s, d, x):\n",
    "    u, b, h, c = params\n",
    "    \n",
    "    n = len(x) # We need the total number of gameplays\n",
    "    predy = np.zeros(n)\n",
    "    for i in range(n):\n",
    "        strength = 0\n",
    "        for j in range(i-1):\n",
    "            if s[i] == s[j]:\n",
    "                t = (i-j)\n",
    "            else:\n",
    "                t = (i-j)+(d[i]-d[j])*h\n",
    "            strength = strength + (t**(-c))\n",
    "        predy[i] = u + b*np.log(strength+1)\n",
    "    return predy\n"
   ]
  },
  {
   "cell_type": "code",
   "execution_count": 272,
   "metadata": {},
   "outputs": [
    {
     "data": {
      "text/plain": [
       "pandas.core.series.Series"
      ]
     },
     "execution_count": 272,
     "metadata": {},
     "output_type": "execute_result"
    }
   ],
   "source": [
    "type(s)\n"
   ]
  },
  {
   "cell_type": "code",
   "execution_count": 273,
   "metadata": {},
   "outputs": [],
   "source": [
    "#s = data.session\n",
    "#d = data.dayselapsed\n",
    "\n",
    "\n",
    "p0 = np.zeros(4)\n",
    "\n",
    "p0[0] = 30 #u\n",
    "p0[1] =  1 #b\n",
    "p0[2] = 10 #h\n",
    "p0[3] = 0.2 #c\n",
    "# p0[4] = [s]\n",
    "# p0[5] = [d]\n",
    "\n"
   ]
  },
  {
   "cell_type": "code",
   "execution_count": 274,
   "metadata": {},
   "outputs": [],
   "source": [
    "\n",
    "def calcmse(params, x, y, model, session, day):\n",
    "    '''make sure params list mathches the required parameters for the model\n",
    "    ex: exp_model has c, a, u, t\n",
    "    ex: AFD_model has u, b, h, c, s, d, g'''\n",
    "    # predicted scores\n",
    "    if model == AFDmodel:\n",
    "        predy = model(params, session, day, x)\n",
    "    else:\n",
    "        predy = model(params, x)\n",
    "    mse = np.mean((predy - y)**2)\n",
    "    return mse\n",
    "\n",
    "def cross_validation(data, params, model,session,day):\n",
    "    kf = KFold(n_splits=10, shuffle=True)\n",
    "    x=data.columns[0]\n",
    "    y=data.columns[1]\n",
    "    mse = []\n",
    "\n",
    "    if model == AFDmodel:\n",
    "        s = session\n",
    "        d = day\n",
    "    else:\n",
    "        s = None\n",
    "        d = None\n",
    "\n",
    "    for train_index, validation_index in kf.split(data):\n",
    "        train, validation = data.iloc[train_index,:], data.iloc[validation_index]\n",
    "        result = minimize(calcmse, params, args=(train[x], train[y], model,s,d))\n",
    "        p = result.x\n",
    "        mse_v = calcmse(p, validation[x], validation[y], model, s, d)\n",
    "        mse.append(mse_v)\n",
    "    avg_mse = np.mean(mse)\n",
    "    return avg_mse, p\n"
   ]
  },
  {
   "cell_type": "code",
   "execution_count": 275,
   "metadata": {},
   "outputs": [],
   "source": [
    "s = data.session\n",
    "d = data.dayselapsed"
   ]
  },
  {
   "cell_type": "code",
   "execution_count": 276,
   "metadata": {},
   "outputs": [
    {
     "name": "stderr",
     "output_type": "stream",
     "text": [
      "/var/folders/01/xmc5z68n57j3mztcxlw9__x00000gn/T/ipykernel_55798/4238684628.py:13: RuntimeWarning: invalid value encountered in scalar power\n",
      "  strength = strength + (t**(-c))\n",
      "/var/folders/01/xmc5z68n57j3mztcxlw9__x00000gn/T/ipykernel_55798/4238684628.py:13: RuntimeWarning: invalid value encountered in scalar power\n",
      "  strength = strength + (t**(-c))\n",
      "/var/folders/01/xmc5z68n57j3mztcxlw9__x00000gn/T/ipykernel_55798/4238684628.py:13: RuntimeWarning: invalid value encountered in scalar power\n",
      "  strength = strength + (t**(-c))\n",
      "/var/folders/01/xmc5z68n57j3mztcxlw9__x00000gn/T/ipykernel_55798/4238684628.py:13: RuntimeWarning: invalid value encountered in scalar power\n",
      "  strength = strength + (t**(-c))\n",
      "/var/folders/01/xmc5z68n57j3mztcxlw9__x00000gn/T/ipykernel_55798/4238684628.py:13: RuntimeWarning: invalid value encountered in scalar power\n",
      "  strength = strength + (t**(-c))\n",
      "/var/folders/01/xmc5z68n57j3mztcxlw9__x00000gn/T/ipykernel_55798/4238684628.py:13: RuntimeWarning: invalid value encountered in scalar power\n",
      "  strength = strength + (t**(-c))\n",
      "/var/folders/01/xmc5z68n57j3mztcxlw9__x00000gn/T/ipykernel_55798/4238684628.py:13: RuntimeWarning: invalid value encountered in scalar power\n",
      "  strength = strength + (t**(-c))\n",
      "/var/folders/01/xmc5z68n57j3mztcxlw9__x00000gn/T/ipykernel_55798/4238684628.py:13: RuntimeWarning: invalid value encountered in scalar power\n",
      "  strength = strength + (t**(-c))\n"
     ]
    }
   ],
   "source": [
    "afd = cross_validation(data, p0, AFDmodel,s,d)\n",
    "parameter_afd = afd[1]\n",
    "y_afd = AFDmodel(parameter_afd,s,d,x)"
   ]
  },
  {
   "cell_type": "code",
   "execution_count": 277,
   "metadata": {},
   "outputs": [
    {
     "data": {
      "text/plain": [
       "158.40430639839354"
      ]
     },
     "execution_count": 277,
     "metadata": {},
     "output_type": "execute_result"
    }
   ],
   "source": [
    "afd[0]"
   ]
  },
  {
   "cell_type": "code",
   "execution_count": 278,
   "metadata": {},
   "outputs": [
    {
     "data": {
      "image/png": "[encoded data removed]",
      "text/plain": [
       "<Figure size 640x480 with 1 Axes>"
      ]
     },
     "metadata": {},
     "output_type": "display_data"
    }
   ],
   "source": [
    "labels = ['data','exponential','power','afd']\n",
    "\n",
    "plt.plot(x, y, 'ko')\n",
    "plt.plot(x,y_exp,'r-')\n",
    "plt.plot(x,y_pwr,'b-')\n",
    "plt.plot(x,y_afd,'g-')\n",
    "plt.legend(labels)\n",
    "plt.xlabel('Gameplay')\n",
    "plt.ylabel('Score')\n",
    "plt.show()"
   ]
  },
  {
   "cell_type": "code",
   "execution_count": 279,
   "metadata": {},
   "outputs": [
    {
     "name": "stdout",
     "output_type": "stream",
     "text": [
      "[67.1154887  67.1154887  71.73410421 73.56238925 75.33328249 77.02671183\n",
      " 71.43672796 72.0735068  74.85515515 76.683266   77.67639013 78.75744473\n",
      " 79.80299839 80.64843776 81.36656031 81.38523265 81.21057808 81.78865038\n",
      " 81.6898878  82.21266737 82.96391154 83.5702551  84.08858921 84.54266443\n",
      " 84.94934964 85.31907599 85.65894147 85.97408936 86.26810221 86.54431502\n",
      " 86.80486882 87.0516018  87.28600707 87.00825345 87.22762329 87.53667102\n",
      " 87.80023707 87.41445989 87.62405693 87.94757038 88.21908135 88.45941159\n",
      " 88.67804502 88.02180274 88.20439017 87.86301636]\n"
     ]
    }
   ],
   "source": [
    "print(y_afd)"
   ]
  },
  {
   "cell_type": "code",
   "execution_count": null,
   "metadata": {},
   "outputs": [],
   "source": []
  }
 ],
 "metadata": {
  "kernelspec": {
   "display_name": "base",
   "language": "python",
   "name": "python3"
  },
  "language_info": {
   "codemirror_mode": {
    "name": "ipython",
    "version": 3
   },
   "file_extension": ".py",
   "mimetype": "text/x-python",
   "name": "python",
   "nbconvert_exporter": "python",
   "pygments_lexer": "ipython3",
   "version": "3.11.5"
  },
  "orig_nbformat": 4
 },
 "nbformat": 4,
 "nbformat_minor": 2
}
